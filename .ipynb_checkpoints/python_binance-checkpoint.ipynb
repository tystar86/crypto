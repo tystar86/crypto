{
 "cells": [
  {
   "cell_type": "code",
   "execution_count": 13,
   "id": "544b3796",
   "metadata": {},
   "outputs": [],
   "source": [
    "from binance.client import Client\n",
    "from binance import ThreadedWebsocketManager\n",
    "\n",
    "# Binance API operates on UTC\n",
    "\n",
    "# TestNet\n",
    "API_KEY = \"yTDtpiIjLlK1CqGnuNBYlW6mpn8MWJjxeS4g6axbJVaICbgvk6NHDnqaVg6HzBmJ\"\n",
    "SECRET_KEY = \"LsK1ELpMp0sy9DLTXdTBLhTsyU8RqWow9Wg9IRLyXowDpfnd8geNe0ubvQUMjuKj\"\n",
    "# Real\n",
    "# API_KEY = \"LebYm95eZZz810vRAuVfkKtTgCyiHap8dgFfWcGJYsXnqmDCdnUCG3GjFAc5OVvL\"\n",
    "# SECRET_KEY = \"ORnEBczAmUKVVZy3hsZyJM13VXqR9DPB9MVSVjngYoqaKKaY7GfF5pbr7KE2xYb9\"\n",
    "\n",
    "# Requests\n",
    "binance_client = Client(API_KEY, SECRET_KEY, testnet=True, tld=\"com\")\n",
    "# binance_client = Client(API_KEY, SECRET_KEY, testnet=False, tld=\"com\")\n",
    "account = binance_client.get_account()\n",
    "\n",
    "# Websockets\n",
    "stream = ThreadedWebsocketManager()\n",
    "stream.start()"
   ]
  },
  {
   "cell_type": "code",
   "execution_count": 14,
   "id": "83fcdf15",
   "metadata": {},
   "outputs": [
    {
     "data": {
      "text/plain": [
       "'btcbusd@miniTicker'"
      ]
     },
     "execution_count": 14,
     "metadata": {},
     "output_type": "execute_result"
    },
    {
     "name": "stdout",
     "output_type": "stream",
     "text": [
      "{'e': '24hrMiniTicker', 'E': 1662721221927, 's': 'BTCBUSD', 'c': '21081.31000000', 'o': '19309.07000000', 'h': '21199.00000000', 'l': '19011.00000000', 'v': '121677.19271000', 'q': '2414843025.50802030'}\n",
      "{'e': '24hrMiniTicker', 'E': 1662721222519, 's': 'BTCBUSD', 'c': '21078.39000000', 'o': '19308.03000000', 'h': '21199.00000000', 'l': '19011.00000000', 'v': '121677.35385000', 'q': '2414847229.70797140'}\n",
      "{'e': '24hrMiniTicker', 'E': 1662721223913, 's': 'BTCBUSD', 'c': '21077.73000000', 'o': '19307.60000000', 'h': '21199.00000000', 'l': '19011.00000000', 'v': '121676.25666000', 'q': '2414827529.78599910'}\n",
      "{'e': '24hrMiniTicker', 'E': 1662721224703, 's': 'BTCBUSD', 'c': '21078.39000000', 'o': '19306.48000000', 'h': '21199.00000000', 'l': '19011.00000000', 'v': '121675.14462000', 'q': '2414806067.20047700'}\n",
      "{'e': '24hrMiniTicker', 'E': 1662721225802, 's': 'BTCBUSD', 'c': '21079.45000000', 'o': '19307.96000000', 'h': '21199.00000000', 'l': '19011.00000000', 'v': '121675.13998000', 'q': '2414806097.95117190'}\n",
      "{'e': '24hrMiniTicker', 'E': 1662721226786, 's': 'BTCBUSD', 'c': '21078.43000000', 'o': '19306.25000000', 'h': '21199.00000000', 'l': '19011.00000000', 'v': '121673.06763000', 'q': '2414766117.94375670'}\n",
      "{'e': '24hrMiniTicker', 'E': 1662721227773, 's': 'BTCBUSD', 'c': '21077.94000000', 'o': '19306.91000000', 'h': '21199.00000000', 'l': '19011.00000000', 'v': '121673.24139000', 'q': '2414769837.99556930'}\n",
      "{'e': '24hrMiniTicker', 'E': 1662721228938, 's': 'BTCBUSD', 'c': '21079.82000000', 'o': '19306.23000000', 'h': '21199.00000000', 'l': '19011.00000000', 'v': '121673.09125000', 'q': '2414767087.56481270'}\n"
     ]
    }
   ],
   "source": [
    "# print(binance_client.get_all_orders(symbol='EURBTC', requests_params={'timeout': 15})) # not for TestNet\n",
    "# print(binance_client.get_account_snapshot(type=\"SPOT\")) # not for TestNet\n",
    "# print(binance_client.get_all_coins_info()) # not for TestNet\n",
    "# print(binance_client.get_trade_fee(symbol=\"BTCEUR\")) # not for TestNet\n",
    "# print(\"account\", account)\n",
    "# print(\"BTC asset balance\", binance_client.get_asset_balance(asset=\"BTC\"))\n",
    "# print(\"exchange info\", binance_client.get_exchange_info())\n",
    "# print(\"BNBBTC symbol info\", binance_client.get_symbol_info(\"BNBBTC\"))\n",
    "# print(\"BTCEUR symbol info\", binance_client.get_symbol_info(symbol=\"BTCEUR\"))\n",
    "# print(\"all tickers\", binance_client.get_all_tickers()) # 24h statistics\n",
    "# print(\"BNBBTC ticker\", binance_client.get_ticker(symbol=\"BNBBTC\")) # 24h statistics\n",
    "# bnb_btc_oldest_timestamp = binance_client._get_earliest_valid_timestamp(symbol=\"BNBBTC\", interval=\"1d\")\n",
    "# print(\"BNBBTC oldest timestamp\", bnb_btc_oldest_timestamp)\n",
    "# Open time, Open, High, Low, Close, Volume, Close time, Quote asset volume, Number of trades, Taker buy base asset volume, Taker buy quote asset volume, Ignore \n",
    "# print(\"BNBBTC historical data\", binance_client.get_historical_klines(symbol=\"BNBBTC\", interval=\"1d\",limit=1000, start_str=bnb_btc_oldest_timestamp))\n",
    "# print(\"BNBBTC historical data\", binance_client.get_historical_klines(symbol=\"BNBBTC\", interval=\"1h\",limit=1000, start_str=\"2022-09-09\", end_str=None))\n",
    "# print(binance_client.get_historical_klines(\"BNBBTC\", Client.KLINE_INTERVAL_30MINUTE, \"1 Dec, 2017\", \"1 Jan, 2018\"))\n",
    "\n",
    "\n",
    "def process_socket_message(msg):\n",
    "  print(msg)\n",
    "\n",
    "# stream.start_symbol_miniticker_socket(callback=process_socket_message, symbol=\"BTCBUSD\")\n",
    "stream.start_kline_socket(callback=process_socket_message, symbol=\"BTCBUSD\")"
   ]
  },
  {
   "cell_type": "code",
   "execution_count": 17,
   "id": "3e2e8728",
   "metadata": {},
   "outputs": [
    {
     "data": {
      "text/plain": [
       "{'symbol': 'BTCUSDT',\n",
       " 'orderId': 841052,\n",
       " 'orderListId': -1,\n",
       " 'clientOrderId': 'zdKnpRrRBGXDBusIwJGkn1',\n",
       " 'transactTime': 1662721322631,\n",
       " 'price': '0.00000000',\n",
       " 'origQty': '0.10000000',\n",
       " 'executedQty': '0.10000000',\n",
       " 'cummulativeQuoteQty': '2108.61492749',\n",
       " 'status': 'FILLED',\n",
       " 'timeInForce': 'GTC',\n",
       " 'type': 'MARKET',\n",
       " 'side': 'BUY',\n",
       " 'fills': [{'price': '21086.14000000',\n",
       "   'qty': '0.00725100',\n",
       "   'commission': '0.00000000',\n",
       "   'commissionAsset': 'BTC',\n",
       "   'tradeId': 342353},\n",
       "  {'price': '21086.15000000',\n",
       "   'qty': '0.09274900',\n",
       "   'commission': '0.00000000',\n",
       "   'commissionAsset': 'BTC',\n",
       "   'tradeId': 342354}]}"
      ]
     },
     "execution_count": 17,
     "metadata": {},
     "output_type": "execute_result"
    }
   ],
   "source": [
    "# stream.stop()\n",
    "\n",
    "# BUY\n",
    "binance_client.create_order(symbol=\"BTCUSDT\", side=\"BUY\", type=\"MARKET\", quantity=0.1)\n",
    "\n",
    "# SELL\n",
    "binance_client.create_order(symbol=\"BTCUSDT\", side=\"SELL\", type=\"MARKET\", quantity=0.1)\n"
   ]
  },
  {
   "cell_type": "code",
   "execution_count": null,
   "id": "9c5efab2",
   "metadata": {},
   "outputs": [],
   "source": []
  }
 ],
 "metadata": {
  "kernelspec": {
   "display_name": "venv",
   "language": "python",
   "name": "venv"
  },
  "language_info": {
   "codemirror_mode": {
    "name": "ipython",
    "version": 3
   },
   "file_extension": ".py",
   "mimetype": "text/x-python",
   "name": "python",
   "nbconvert_exporter": "python",
   "pygments_lexer": "ipython3",
   "version": "3.9.0"
  }
 },
 "nbformat": 4,
 "nbformat_minor": 5
}
