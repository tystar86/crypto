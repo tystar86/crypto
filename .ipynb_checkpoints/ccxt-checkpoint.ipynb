{
 "cells": [
  {
   "cell_type": "code",
   "execution_count": 7,
   "id": "488c52a2",
   "metadata": {},
   "outputs": [],
   "source": [
    "import ccxt"
   ]
  },
  {
   "cell_type": "code",
   "execution_count": 23,
   "id": "5b07e759",
   "metadata": {},
   "outputs": [],
   "source": [
    "# TestNet\n",
    "API_KEY = \n",
    "SECRET_KEY =\n",
    "# Real\n",
    "# API_KEY = \n",
    "# SECRET_KEY = \n",
    "\n",
    "\n",
    "binance = ccxt.binance()"
   ]
  },
  {
   "cell_type": "code",
   "execution_count": 18,
   "id": "64ca97e6",
   "metadata": {},
   "outputs": [
    {
     "data": {
      "text/plain": [
       "[[1661904000000, 19784.33, 20450.0, 19770.0, 19989.56, 2444.01828],\n",
       " [1661990400000, 19987.89, 20289.77, 19697.0, 20217.6, 1996.51253],\n",
       " [1662076800000, 20215.0, 20428.41, 19855.69, 20072.48, 2268.39539],\n",
       " [1662163200000, 20064.95, 20170.0, 19771.71, 19938.86, 864.40522],\n",
       " [1662249600000, 19936.16, 20189.99, 19702.07, 20166.2, 1167.33016],\n",
       " [1662336000000, 20165.2, 20213.21, 19794.41, 19910.0, 1688.13707],\n",
       " [1662422400000, 19912.33, 20240.0, 18870.0, 19006.17, 3518.07734],\n",
       " [1662508800000, 19005.19, 19492.61, 18767.0, 19319.78, 2587.46118],\n",
       " [1662595200000, 19319.74, 19477.97, 19092.61, 19310.01, 2155.30968],\n",
       " [1662681600000, 19313.67, 20741.1, 19241.86, 20521.0, 1578.1372]]"
      ]
     },
     "execution_count": 18,
     "metadata": {},
     "output_type": "execute_result"
    }
   ],
   "source": [
    "# ccxt.exchanges\n",
    "\n",
    "# GLOBAL CALLS\n",
    "# binance.fetchTickers(symbols=[\"BTC/USDT\"])\n",
    "# binance.loadMarkets()[\"ETH/BTC\"]\n",
    "# binance.has # available API calls\n",
    "\n",
    "data = binance.fetchOHLCV(symbol=\"BTC/EUR\", timeframe=\"1d\", limit=10)\n",
    "data"
   ]
  },
  {
   "cell_type": "code",
   "execution_count": 34,
   "id": "77891fdd",
   "metadata": {},
   "outputs": [],
   "source": [
    "# PRIVATE CALLS\n",
    "def login_to_binance(binance, test_net=True):\n",
    "    binance.apiKey = API_KEY\n",
    "    binance.secret = SECRET_KEY\n",
    "    binance.verbose = True\n",
    "    binance.set_sandbox_mode(test_net) \n",
    "\n",
    "# login_to_binance(binance, test_net=False) # login with real account\n",
    "login_to_binance(binance)"
   ]
  },
  {
   "cell_type": "code",
   "execution_count": 39,
   "id": "cba72c88",
   "metadata": {},
   "outputs": [
    {
     "name": "stdout",
     "output_type": "stream",
     "text": [
      "\n",
      "fetch Request: binance GET https://testnet.binance.vision/api/v3/account?timestamp=1662718718579&recvWindow=10000&signature=f911e0cf04161f3880b67e188259fbb2e946928f36924e4b02797dd6ad473767 RequestHeaders: {'X-MBX-APIKEY': 'yTDtpiIjLlK1CqGnuNBYlW6mpn8MWJjxeS4g6axbJVaICbgvk6NHDnqaVg6HzBmJ', 'User-Agent': 'python-requests/2.28.1', 'Accept-Encoding': 'gzip, deflate', 'Accept': '*/*', 'Connection': 'keep-alive'} RequestBody: None\n",
      "\n",
      "fetch Response: binance GET https://testnet.binance.vision/api/v3/account?timestamp=1662718718579&recvWindow=10000&signature=f911e0cf04161f3880b67e188259fbb2e946928f36924e4b02797dd6ad473767 200 ResponseHeaders: {'Content-Type': 'application/json;charset=UTF-8', 'Content-Length': '263', 'Connection': 'keep-alive', 'Date': 'Fri, 09 Sep 2022 10:18:39 GMT', 'Server': 'nginx', 'x-mbx-uuid': '0c800f25-49c7-4f5a-86c8-ac374143cd90', 'x-mbx-used-weight': '10', 'x-mbx-used-weight-1m': '10', 'content-encoding': 'gzip', 'Strict-Transport-Security': 'max-age=31536000; includeSubdomains', 'X-Frame-Options': 'SAMEORIGIN', 'X-Xss-Protection': '1; mode=block', 'X-Content-Type-Options': 'nosniff', 'Content-Security-Policy': \"default-src 'self'\", 'X-Content-Security-Policy': \"default-src 'self'\", 'X-WebKit-CSP': \"default-src 'self'\", 'Cache-Control': 'no-cache, no-store, must-revalidate', 'Pragma': 'no-cache', 'Expires': '0', 'Access-Control-Allow-Origin': '*', 'Access-Control-Allow-Methods': 'GET, HEAD, OPTIONS', 'X-Cache': 'Miss from cloudfront', 'Via': '1.1 e210e35eb3b86a214f96a9c0bbf8557e.cloudfront.net (CloudFront)', 'X-Amz-Cf-Pop': 'MRS52-P2', 'X-Amz-Cf-Id': 'dUBkXBCoEevfeBERIg0oSkS5PlrI6wRog_GofdnhvDjBgdV-qEQ6Dw=='} ResponseBody: {\"makerCommission\":0,\"takerCommission\":0,\"buyerCommission\":0,\"sellerCommission\":0,\"canTrade\":true,\"canWithdraw\":false,\"canDeposit\":false,\"brokered\":false,\"updateTime\":1662718289742,\"accountType\":\"SPOT\",\"balances\":[{\"asset\":\"BNB\",\"free\":\"1001.00000000\",\"locked\":\"0.00000000\"},{\"asset\":\"BTC\",\"free\":\"1.00000000\",\"locked\":\"0.00000000\"},{\"asset\":\"BUSD\",\"free\":\"9710.70000000\",\"locked\":\"0.00000000\"},{\"asset\":\"ETH\",\"free\":\"100.00000000\",\"locked\":\"0.00000000\"},{\"asset\":\"LTC\",\"free\":\"500.00000000\",\"locked\":\"0.00000000\"},{\"asset\":\"TRX\",\"free\":\"500000.00000000\",\"locked\":\"0.00000000\"},{\"asset\":\"USDT\",\"free\":\"10000.00000000\",\"locked\":\"0.00000000\"},{\"asset\":\"XRP\",\"free\":\"50000.00000000\",\"locked\":\"0.00000000\"}],\"permissions\":[\"SPOT\"]}\n",
      "\n",
      "fetch Request: binance POST https://testnet.binance.vision/api/v3/order RequestHeaders: {'X-MBX-APIKEY': 'yTDtpiIjLlK1CqGnuNBYlW6mpn8MWJjxeS4g6axbJVaICbgvk6NHDnqaVg6HzBmJ', 'Content-Type': 'application/x-www-form-urlencoded', 'User-Agent': 'python-requests/2.28.1', 'Accept-Encoding': 'gzip, deflate', 'Accept': '*/*', 'Connection': 'keep-alive'} RequestBody: timestamp=1662718719581&symbol=BTCUSDT&type=MARKET&side=BUY&newClientOrderId=x-R4BD3S82a72a55c6b04581650b606&newOrderRespType=FULL&quoteOrderQty=2000&recvWindow=10000&signature=4e9b3622a84cf4da28370d112e54ce95f25c1890513d7d1fa680c832eb47739e\n",
      "\n",
      "fetch Response: binance POST https://testnet.binance.vision/api/v3/order 200 ResponseHeaders: {'Content-Type': 'application/json;charset=UTF-8', 'Content-Length': '313', 'Connection': 'keep-alive', 'Date': 'Fri, 09 Sep 2022 10:18:40 GMT', 'Server': 'nginx', 'x-mbx-uuid': '0c800f25-49c7-4f5a-86c8-ac374143cd90', 'x-mbx-used-weight': '11', 'x-mbx-used-weight-1m': '11', 'x-mbx-order-count-10s': '1', 'x-mbx-order-count-1d': '3', 'content-encoding': 'gzip', 'Strict-Transport-Security': 'max-age=31536000; includeSubdomains', 'X-Frame-Options': 'SAMEORIGIN', 'X-Xss-Protection': '1; mode=block', 'X-Content-Type-Options': 'nosniff', 'Content-Security-Policy': \"default-src 'self'\", 'X-Content-Security-Policy': \"default-src 'self'\", 'X-WebKit-CSP': \"default-src 'self'\", 'Cache-Control': 'no-cache, no-store, must-revalidate', 'Pragma': 'no-cache', 'Expires': '0', 'Access-Control-Allow-Origin': '*', 'Access-Control-Allow-Methods': 'GET, HEAD, OPTIONS', 'X-Cache': 'Miss from cloudfront', 'Via': '1.1 e210e35eb3b86a214f96a9c0bbf8557e.cloudfront.net (CloudFront)', 'X-Amz-Cf-Pop': 'MRS52-P2', 'X-Amz-Cf-Id': '1xmIt4uKsOEygTISoN0cFg7X5xEb2k3JL7z3Sbygo_1CHYZEpSxldA=='} ResponseBody: {\"symbol\":\"BTCUSDT\",\"orderId\":828769,\"orderListId\":-1,\"clientOrderId\":\"x-R4BD3S82a72a55c6b04581650b606\",\"transactTime\":1662718720698,\"price\":\"0.00000000\",\"origQty\":\"0.09639700\",\"executedQty\":\"0.09639700\",\"cummulativeQuoteQty\":\"1999.99982292\",\"status\":\"FILLED\",\"timeInForce\":\"GTC\",\"type\":\"MARKET\",\"side\":\"BUY\",\"fills\":[{\"price\":\"20747.53000000\",\"qty\":\"0.07904600\",\"commission\":\"0.00000000\",\"commissionAsset\":\"BTC\",\"tradeId\":336277},{\"price\":\"20747.54000000\",\"qty\":\"0.01735100\",\"commission\":\"0.00000000\",\"commissionAsset\":\"BTC\",\"tradeId\":336278}]}\n"
     ]
    },
    {
     "data": {
      "text/plain": [
       "{'info': {'symbol': 'BTCUSDT',\n",
       "  'orderId': '828769',\n",
       "  'orderListId': '-1',\n",
       "  'clientOrderId': 'x-R4BD3S82a72a55c6b04581650b606',\n",
       "  'transactTime': '1662718720698',\n",
       "  'price': '0.00000000',\n",
       "  'origQty': '0.09639700',\n",
       "  'executedQty': '0.09639700',\n",
       "  'cummulativeQuoteQty': '1999.99982292',\n",
       "  'status': 'FILLED',\n",
       "  'timeInForce': 'GTC',\n",
       "  'type': 'MARKET',\n",
       "  'side': 'BUY',\n",
       "  'fills': [{'price': '20747.53000000',\n",
       "    'qty': '0.07904600',\n",
       "    'commission': '0.00000000',\n",
       "    'commissionAsset': 'BTC',\n",
       "    'tradeId': '336277'},\n",
       "   {'price': '20747.54000000',\n",
       "    'qty': '0.01735100',\n",
       "    'commission': '0.00000000',\n",
       "    'commissionAsset': 'BTC',\n",
       "    'tradeId': '336278'}]},\n",
       " 'id': '828769',\n",
       " 'clientOrderId': 'x-R4BD3S82a72a55c6b04581650b606',\n",
       " 'timestamp': 1662718720698,\n",
       " 'datetime': '2022-09-09T10:18:40.698Z',\n",
       " 'lastTradeTimestamp': None,\n",
       " 'symbol': 'BTC/USDT',\n",
       " 'type': 'market',\n",
       " 'timeInForce': 'GTC',\n",
       " 'postOnly': False,\n",
       " 'reduceOnly': None,\n",
       " 'side': 'buy',\n",
       " 'price': 20747.53179995228,\n",
       " 'stopPrice': None,\n",
       " 'amount': 0.096397,\n",
       " 'cost': 1999.99982292,\n",
       " 'average': 20747.53179995228,\n",
       " 'filled': 0.096397,\n",
       " 'remaining': 0.0,\n",
       " 'status': 'closed',\n",
       " 'fee': None,\n",
       " 'trades': [{'info': {'price': '20747.53000000',\n",
       "    'qty': '0.07904600',\n",
       "    'commission': '0.00000000',\n",
       "    'commissionAsset': 'BTC',\n",
       "    'tradeId': '336277'},\n",
       "   'timestamp': None,\n",
       "   'datetime': None,\n",
       "   'symbol': 'BTC/USDT',\n",
       "   'id': '336277',\n",
       "   'order': '828769',\n",
       "   'type': 'market',\n",
       "   'side': 'buy',\n",
       "   'takerOrMaker': None,\n",
       "   'price': 20747.53,\n",
       "   'amount': 0.079046,\n",
       "   'cost': 1640.00925638,\n",
       "   'fee': {'cost': 0.0, 'currency': 'BTC'},\n",
       "   'fees': [{'cost': 0.0, 'currency': 'BTC'}]},\n",
       "  {'info': {'price': '20747.54000000',\n",
       "    'qty': '0.01735100',\n",
       "    'commission': '0.00000000',\n",
       "    'commissionAsset': 'BTC',\n",
       "    'tradeId': '336278'},\n",
       "   'timestamp': None,\n",
       "   'datetime': None,\n",
       "   'symbol': 'BTC/USDT',\n",
       "   'id': '336278',\n",
       "   'order': '828769',\n",
       "   'type': 'market',\n",
       "   'side': 'buy',\n",
       "   'takerOrMaker': None,\n",
       "   'price': 20747.54,\n",
       "   'amount': 0.017351,\n",
       "   'cost': 359.99056654,\n",
       "   'fee': {'cost': 0.0, 'currency': 'BTC'},\n",
       "   'fees': [{'cost': 0.0, 'currency': 'BTC'}]}],\n",
       " 'fees': []}"
      ]
     },
     "execution_count": 39,
     "metadata": {},
     "output_type": "execute_result"
    }
   ],
   "source": [
    "binance.fetchBalance()\n",
    "# binance.fetchMyTrades(symbol=\"SOL/EUR\")\n",
    "# binance.fetchClosedOrders(symbol=\"SOL/EUR\")\n",
    "\n",
    "# binance.loadMarkets()\n",
    "\n",
    "# BUY\n",
    "# binance.createMarketOrder(symbol=\"BNB/BUSD\", side=\"BUY\", amount=1)\n",
    "binance.createMarketOrder(symbol=\"BNB/BUSD\", side=\"BUY\", amount=1, price=2000) # Buy X BNB for 200 BUSD\n",
    "\n",
    "# SELL\n",
    "# binance.createMarketOrder(symbol=\"BNB/BUSD\", side=\"SELL\", amount=\"1\")\n",
    "\n",
    "binance.fetchMyTrades(symbol=\"BNB/BUSD\")"
   ]
  },
  {
   "cell_type": "code",
   "execution_count": null,
   "id": "90d28712",
   "metadata": {},
   "outputs": [],
   "source": []
  }
 ],
 "metadata": {
  "kernelspec": {
   "display_name": "venv",
   "language": "python",
   "name": "venv"
  },
  "language_info": {
   "codemirror_mode": {
    "name": "ipython",
    "version": 3
   },
   "file_extension": ".py",
   "mimetype": "text/x-python",
   "name": "python",
   "nbconvert_exporter": "python",
   "pygments_lexer": "ipython3",
   "version": "3.9.0"
  }
 },
 "nbformat": 4,
 "nbformat_minor": 5
}
