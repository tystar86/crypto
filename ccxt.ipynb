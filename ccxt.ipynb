{
 "cells": [
  {
   "cell_type": "code",
   "execution_count": 7,
   "id": "77e8ad66",
   "metadata": {},
   "outputs": [],
   "source": [
    "import ccxt"
   ]
  },
  {
   "cell_type": "code",
   "execution_count": 23,
   "id": "0cd71926",
   "metadata": {},
   "outputs": [],
   "source": [
    "# TestNet\n",
    "API_KEY = \"yTDtpiIjLlK1CqGnuNBYlW6mpn8MWJjxeS4g6axbJVaICbgvk6NHDnqaVg6HzBmJ\"\n",
    "SECRET_KEY = \"LsK1ELpMp0sy9DLTXdTBLhTsyU8RqWow9Wg9IRLyXowDpfnd8geNe0ubvQUMjuKj\"\n",
    "# Real\n",
    "# API_KEY = \"LebYm95eZZz810vRAuVfkKtTgCyiHap8dgFfWcGJYsXnqmDCdnUCG3GjFAc5OVvL\"\n",
    "# SECRET_KEY = \"ORnEBczAmUKVVZy3hsZyJM13VXqR9DPB9MVSVjngYoqaKKaY7GfF5pbr7KE2xYb9\"\n",
    "\n",
    "\n",
    "binance = ccxt.binance()"
   ]
  },
  {
   "cell_type": "code",
   "execution_count": 18,
   "id": "a23ce154",
   "metadata": {},
   "outputs": [
    {
     "data": {
      "text/plain": [
       "[[1661904000000, 19784.33, 20450.0, 19770.0, 19989.56, 2444.01828],\n",
       " [1661990400000, 19987.89, 20289.77, 19697.0, 20217.6, 1996.51253],\n",
       " [1662076800000, 20215.0, 20428.41, 19855.69, 20072.48, 2268.39539],\n",
       " [1662163200000, 20064.95, 20170.0, 19771.71, 19938.86, 864.40522],\n",
       " [1662249600000, 19936.16, 20189.99, 19702.07, 20166.2, 1167.33016],\n",
       " [1662336000000, 20165.2, 20213.21, 19794.41, 19910.0, 1688.13707],\n",
       " [1662422400000, 19912.33, 20240.0, 18870.0, 19006.17, 3518.07734],\n",
       " [1662508800000, 19005.19, 19492.61, 18767.0, 19319.78, 2587.46118],\n",
       " [1662595200000, 19319.74, 19477.97, 19092.61, 19310.01, 2155.30968],\n",
       " [1662681600000, 19313.67, 20741.1, 19241.86, 20521.0, 1578.1372]]"
      ]
     },
     "execution_count": 18,
     "metadata": {},
     "output_type": "execute_result"
    }
   ],
   "source": [
    "# ccxt.exchanges\n",
    "\n",
    "# GLOBAL CALLS\n",
    "# binance.fetchTickers(symbols=[\"BTC/USDT\"])\n",
    "# binance.loadMarkets()[\"ETH/BTC\"]\n",
    "# binance.has # available API calls\n",
    "\n",
    "data = binance.fetchOHLCV(symbol=\"BTC/EUR\", timeframe=\"1d\", limit=10)\n",
    "data"
   ]
  },
  {
   "cell_type": "code",
   "execution_count": 34,
   "id": "d3dca1ee",
   "metadata": {},
   "outputs": [],
   "source": [
    "# PRIVATE CALLS\n",
    "def login_to_binance(binance, test_net=True):\n",
    "    binance.apiKey = API_KEY\n",
    "    binance.secret = SECRET_KEY\n",
    "    binance.verbose = True\n",
    "    binance.set_sandbox_mode(test_net) \n",
    "\n",
    "# login_to_binance(binance, test_net=False) # login with real account\n",
    "login_to_binance(binance)"
   ]
  },
  {
   "cell_type": "code",
   "execution_count": 40,
   "id": "b5bd3d41",
   "metadata": {},
   "outputs": [
    {
     "name": "stdout",
     "output_type": "stream",
     "text": [
      "\n",
      "fetch Request: binance GET https://testnet.binance.vision/api/v3/account?timestamp=1662718747407&recvWindow=10000&signature=9caf921adffe462300d2def84b42d5e691121a5fcb7f39d6ba458d5cd79e0066 RequestHeaders: {'X-MBX-APIKEY': 'yTDtpiIjLlK1CqGnuNBYlW6mpn8MWJjxeS4g6axbJVaICbgvk6NHDnqaVg6HzBmJ', 'User-Agent': 'python-requests/2.28.1', 'Accept-Encoding': 'gzip, deflate', 'Accept': '*/*', 'Connection': 'keep-alive'} RequestBody: None\n",
      "\n",
      "fetch Response: binance GET https://testnet.binance.vision/api/v3/account?timestamp=1662718747407&recvWindow=10000&signature=9caf921adffe462300d2def84b42d5e691121a5fcb7f39d6ba458d5cd79e0066 200 ResponseHeaders: {'Content-Type': 'application/json;charset=UTF-8', 'Content-Length': '274', 'Connection': 'keep-alive', 'Date': 'Fri, 09 Sep 2022 10:19:08 GMT', 'Server': 'nginx', 'x-mbx-uuid': '4d8ee4e2-e497-412b-839e-b6d5e6575b63', 'x-mbx-used-weight': '10', 'x-mbx-used-weight-1m': '10', 'content-encoding': 'gzip', 'Strict-Transport-Security': 'max-age=31536000; includeSubdomains', 'X-Frame-Options': 'SAMEORIGIN', 'X-Xss-Protection': '1; mode=block', 'X-Content-Type-Options': 'nosniff', 'Content-Security-Policy': \"default-src 'self'\", 'X-Content-Security-Policy': \"default-src 'self'\", 'X-WebKit-CSP': \"default-src 'self'\", 'Cache-Control': 'no-cache, no-store, must-revalidate', 'Pragma': 'no-cache', 'Expires': '0', 'Access-Control-Allow-Origin': '*', 'Access-Control-Allow-Methods': 'GET, HEAD, OPTIONS', 'X-Cache': 'Miss from cloudfront', 'Via': '1.1 e210e35eb3b86a214f96a9c0bbf8557e.cloudfront.net (CloudFront)', 'X-Amz-Cf-Pop': 'MRS52-P2', 'X-Amz-Cf-Id': 'Fl6g9PHaEDzcSOLrbiKFt2g80GbTxqwIqUiiZHCl7W9Uegmwnd71xg=='} ResponseBody: {\"makerCommission\":0,\"takerCommission\":0,\"buyerCommission\":0,\"sellerCommission\":0,\"canTrade\":true,\"canWithdraw\":false,\"canDeposit\":false,\"brokered\":false,\"updateTime\":1662718720698,\"accountType\":\"SPOT\",\"balances\":[{\"asset\":\"BNB\",\"free\":\"1001.00000000\",\"locked\":\"0.00000000\"},{\"asset\":\"BTC\",\"free\":\"1.09639700\",\"locked\":\"0.00000000\"},{\"asset\":\"BUSD\",\"free\":\"9710.70000000\",\"locked\":\"0.00000000\"},{\"asset\":\"ETH\",\"free\":\"100.00000000\",\"locked\":\"0.00000000\"},{\"asset\":\"LTC\",\"free\":\"500.00000000\",\"locked\":\"0.00000000\"},{\"asset\":\"TRX\",\"free\":\"500000.00000000\",\"locked\":\"0.00000000\"},{\"asset\":\"USDT\",\"free\":\"8000.00017708\",\"locked\":\"0.00000000\"},{\"asset\":\"XRP\",\"free\":\"50000.00000000\",\"locked\":\"0.00000000\"}],\"permissions\":[\"SPOT\"]}\n",
      "\n",
      "fetch Request: binance POST https://testnet.binance.vision/api/v3/order RequestHeaders: {'X-MBX-APIKEY': 'yTDtpiIjLlK1CqGnuNBYlW6mpn8MWJjxeS4g6axbJVaICbgvk6NHDnqaVg6HzBmJ', 'Content-Type': 'application/x-www-form-urlencoded', 'User-Agent': 'python-requests/2.28.1', 'Accept-Encoding': 'gzip, deflate', 'Accept': '*/*', 'Connection': 'keep-alive'} RequestBody: timestamp=1662718748465&symbol=BNBBUSD&type=MARKET&side=BUY&newClientOrderId=x-R4BD3S8223076889162eb03571028b&newOrderRespType=FULL&quoteOrderQty=2000&recvWindow=10000&signature=502dc199e046c67ba457f6684f19eff9ec1d01262a43fc6946965f0f735bf07f\n",
      "\n",
      "fetch Response: binance POST https://testnet.binance.vision/api/v3/order 200 ResponseHeaders: {'Content-Type': 'application/json;charset=UTF-8', 'Content-Length': '317', 'Connection': 'keep-alive', 'Date': 'Fri, 09 Sep 2022 10:19:09 GMT', 'Server': 'nginx', 'x-mbx-uuid': '4d8ee4e2-e497-412b-839e-b6d5e6575b63', 'x-mbx-used-weight': '11', 'x-mbx-used-weight-1m': '11', 'x-mbx-order-count-10s': '1', 'x-mbx-order-count-1d': '4', 'content-encoding': 'gzip', 'Strict-Transport-Security': 'max-age=31536000; includeSubdomains', 'X-Frame-Options': 'SAMEORIGIN', 'X-Xss-Protection': '1; mode=block', 'X-Content-Type-Options': 'nosniff', 'Content-Security-Policy': \"default-src 'self'\", 'X-Content-Security-Policy': \"default-src 'self'\", 'X-WebKit-CSP': \"default-src 'self'\", 'Cache-Control': 'no-cache, no-store, must-revalidate', 'Pragma': 'no-cache', 'Expires': '0', 'Access-Control-Allow-Origin': '*', 'Access-Control-Allow-Methods': 'GET, HEAD, OPTIONS', 'X-Cache': 'Miss from cloudfront', 'Via': '1.1 e210e35eb3b86a214f96a9c0bbf8557e.cloudfront.net (CloudFront)', 'X-Amz-Cf-Pop': 'MRS52-P2', 'X-Amz-Cf-Id': '1dZan1tX9VoKRhm8FPDao2BjgK5NRcNAxy4iXdETMR1z9t3IUJMijA=='} ResponseBody: {\"symbol\":\"BNBBUSD\",\"orderId\":113745,\"orderListId\":-1,\"clientOrderId\":\"x-R4BD3S8223076889162eb03571028b\",\"transactTime\":1662718749593,\"price\":\"0.00000000\",\"origQty\":\"6.92000000\",\"executedQty\":\"6.92000000\",\"cummulativeQuoteQty\":\"1999.02700000\",\"status\":\"FILLED\",\"timeInForce\":\"GTC\",\"type\":\"MARKET\",\"side\":\"BUY\",\"fills\":[{\"price\":\"288.80000000\",\"qty\":\"2.74000000\",\"commission\":\"0.00000000\",\"commissionAsset\":\"BNB\",\"tradeId\":19964},{\"price\":\"288.90000000\",\"qty\":\"3.05000000\",\"commission\":\"0.00000000\",\"commissionAsset\":\"BNB\",\"tradeId\":19965},{\"price\":\"289.00000000\",\"qty\":\"1.13000000\",\"commission\":\"0.00000000\",\"commissionAsset\":\"BNB\",\"tradeId\":19966}]}\n",
      "\n",
      "fetch Request: binance GET https://testnet.binance.vision/api/v3/myTrades?timestamp=1662718749468&symbol=BNBBUSD&recvWindow=10000&signature=dcbcc404b5fb73ac4ca0673bf545902905bc9e6871c191661309831cf746d8c0 RequestHeaders: {'X-MBX-APIKEY': 'yTDtpiIjLlK1CqGnuNBYlW6mpn8MWJjxeS4g6axbJVaICbgvk6NHDnqaVg6HzBmJ', 'User-Agent': 'python-requests/2.28.1', 'Accept-Encoding': 'gzip, deflate', 'Accept': '*/*', 'Connection': 'keep-alive'} RequestBody: None\n",
      "\n",
      "fetch Response: binance GET https://testnet.binance.vision/api/v3/myTrades?timestamp=1662718749468&symbol=BNBBUSD&recvWindow=10000&signature=dcbcc404b5fb73ac4ca0673bf545902905bc9e6871c191661309831cf746d8c0 200 ResponseHeaders: {'Content-Type': 'application/json;charset=UTF-8', 'Content-Length': '265', 'Connection': 'keep-alive', 'Date': 'Fri, 09 Sep 2022 10:19:10 GMT', 'Server': 'nginx', 'x-mbx-uuid': '4d8ee4e2-e497-412b-839e-b6d5e6575b63', 'x-mbx-used-weight': '21', 'x-mbx-used-weight-1m': '21', 'content-encoding': 'gzip', 'Strict-Transport-Security': 'max-age=31536000; includeSubdomains', 'X-Frame-Options': 'SAMEORIGIN', 'X-Xss-Protection': '1; mode=block', 'X-Content-Type-Options': 'nosniff', 'Content-Security-Policy': \"default-src 'self'\", 'X-Content-Security-Policy': \"default-src 'self'\", 'X-WebKit-CSP': \"default-src 'self'\", 'Cache-Control': 'no-cache, no-store, must-revalidate', 'Pragma': 'no-cache', 'Expires': '0', 'Access-Control-Allow-Origin': '*', 'Access-Control-Allow-Methods': 'GET, HEAD, OPTIONS', 'X-Cache': 'Miss from cloudfront', 'Via': '1.1 e210e35eb3b86a214f96a9c0bbf8557e.cloudfront.net (CloudFront)', 'X-Amz-Cf-Pop': 'MRS52-P2', 'X-Amz-Cf-Id': 'D4s4-lPIZMGMbpRacx2hOZ0Svmh9kP6LdX6xpguGY3aUXZLKRINMaQ=='} ResponseBody: [{\"symbol\":\"BNBBUSD\",\"id\":19955,\"orderId\":113548,\"orderListId\":-1,\"price\":\"289.30000000\",\"qty\":\"1.00000000\",\"quoteQty\":\"289.30000000\",\"commission\":\"0.00000000\",\"commissionAsset\":\"BNB\",\"time\":1662718289742,\"isBuyer\":true,\"isMaker\":false,\"isBestMatch\":true},{\"symbol\":\"BNBBUSD\",\"id\":19964,\"orderId\":113745,\"orderListId\":-1,\"price\":\"288.80000000\",\"qty\":\"2.74000000\",\"quoteQty\":\"791.31200000\",\"commission\":\"0.00000000\",\"commissionAsset\":\"BNB\",\"time\":1662718749593,\"isBuyer\":true,\"isMaker\":false,\"isBestMatch\":true},{\"symbol\":\"BNBBUSD\",\"id\":19965,\"orderId\":113745,\"orderListId\":-1,\"price\":\"288.90000000\",\"qty\":\"3.05000000\",\"quoteQty\":\"881.14500000\",\"commission\":\"0.00000000\",\"commissionAsset\":\"BNB\",\"time\":1662718749593,\"isBuyer\":true,\"isMaker\":false,\"isBestMatch\":true},{\"symbol\":\"BNBBUSD\",\"id\":19966,\"orderId\":113745,\"orderListId\":-1,\"price\":\"289.00000000\",\"qty\":\"1.13000000\",\"quoteQty\":\"326.57000000\",\"commission\":\"0.00000000\",\"commissionAsset\":\"BNB\",\"time\":1662718749593,\"isBuyer\":true,\"isMaker\":false,\"isBestMatch\":true}]\n"
     ]
    },
    {
     "data": {
      "text/plain": [
       "[{'info': {'symbol': 'BNBBUSD',\n",
       "   'id': '19955',\n",
       "   'orderId': '113548',\n",
       "   'orderListId': '-1',\n",
       "   'price': '289.30000000',\n",
       "   'qty': '1.00000000',\n",
       "   'quoteQty': '289.30000000',\n",
       "   'commission': '0.00000000',\n",
       "   'commissionAsset': 'BNB',\n",
       "   'time': '1662718289742',\n",
       "   'isBuyer': True,\n",
       "   'isMaker': False,\n",
       "   'isBestMatch': True},\n",
       "  'timestamp': 1662718289742,\n",
       "  'datetime': '2022-09-09T10:11:29.742Z',\n",
       "  'symbol': 'BNB/BUSD',\n",
       "  'id': '19955',\n",
       "  'order': '113548',\n",
       "  'type': None,\n",
       "  'side': 'buy',\n",
       "  'takerOrMaker': 'taker',\n",
       "  'price': 289.3,\n",
       "  'amount': 1.0,\n",
       "  'cost': 289.3,\n",
       "  'fee': {'cost': 0.0, 'currency': 'BNB'},\n",
       "  'fees': [{'cost': 0.0, 'currency': 'BNB'}]},\n",
       " {'info': {'symbol': 'BNBBUSD',\n",
       "   'id': '19964',\n",
       "   'orderId': '113745',\n",
       "   'orderListId': '-1',\n",
       "   'price': '288.80000000',\n",
       "   'qty': '2.74000000',\n",
       "   'quoteQty': '791.31200000',\n",
       "   'commission': '0.00000000',\n",
       "   'commissionAsset': 'BNB',\n",
       "   'time': '1662718749593',\n",
       "   'isBuyer': True,\n",
       "   'isMaker': False,\n",
       "   'isBestMatch': True},\n",
       "  'timestamp': 1662718749593,\n",
       "  'datetime': '2022-09-09T10:19:09.593Z',\n",
       "  'symbol': 'BNB/BUSD',\n",
       "  'id': '19964',\n",
       "  'order': '113745',\n",
       "  'type': None,\n",
       "  'side': 'buy',\n",
       "  'takerOrMaker': 'taker',\n",
       "  'price': 288.8,\n",
       "  'amount': 2.74,\n",
       "  'cost': 791.312,\n",
       "  'fee': {'cost': 0.0, 'currency': 'BNB'},\n",
       "  'fees': [{'cost': 0.0, 'currency': 'BNB'}]},\n",
       " {'info': {'symbol': 'BNBBUSD',\n",
       "   'id': '19965',\n",
       "   'orderId': '113745',\n",
       "   'orderListId': '-1',\n",
       "   'price': '288.90000000',\n",
       "   'qty': '3.05000000',\n",
       "   'quoteQty': '881.14500000',\n",
       "   'commission': '0.00000000',\n",
       "   'commissionAsset': 'BNB',\n",
       "   'time': '1662718749593',\n",
       "   'isBuyer': True,\n",
       "   'isMaker': False,\n",
       "   'isBestMatch': True},\n",
       "  'timestamp': 1662718749593,\n",
       "  'datetime': '2022-09-09T10:19:09.593Z',\n",
       "  'symbol': 'BNB/BUSD',\n",
       "  'id': '19965',\n",
       "  'order': '113745',\n",
       "  'type': None,\n",
       "  'side': 'buy',\n",
       "  'takerOrMaker': 'taker',\n",
       "  'price': 288.9,\n",
       "  'amount': 3.05,\n",
       "  'cost': 881.145,\n",
       "  'fee': {'cost': 0.0, 'currency': 'BNB'},\n",
       "  'fees': [{'cost': 0.0, 'currency': 'BNB'}]},\n",
       " {'info': {'symbol': 'BNBBUSD',\n",
       "   'id': '19966',\n",
       "   'orderId': '113745',\n",
       "   'orderListId': '-1',\n",
       "   'price': '289.00000000',\n",
       "   'qty': '1.13000000',\n",
       "   'quoteQty': '326.57000000',\n",
       "   'commission': '0.00000000',\n",
       "   'commissionAsset': 'BNB',\n",
       "   'time': '1662718749593',\n",
       "   'isBuyer': True,\n",
       "   'isMaker': False,\n",
       "   'isBestMatch': True},\n",
       "  'timestamp': 1662718749593,\n",
       "  'datetime': '2022-09-09T10:19:09.593Z',\n",
       "  'symbol': 'BNB/BUSD',\n",
       "  'id': '19966',\n",
       "  'order': '113745',\n",
       "  'type': None,\n",
       "  'side': 'buy',\n",
       "  'takerOrMaker': 'taker',\n",
       "  'price': 289.0,\n",
       "  'amount': 1.13,\n",
       "  'cost': 326.57,\n",
       "  'fee': {'cost': 0.0, 'currency': 'BNB'},\n",
       "  'fees': [{'cost': 0.0, 'currency': 'BNB'}]}]"
      ]
     },
     "execution_count": 40,
     "metadata": {},
     "output_type": "execute_result"
    }
   ],
   "source": [
    "binance.fetchBalance()\n",
    "# binance.fetchMyTrades(symbol=\"SOL/EUR\")\n",
    "# binance.fetchClosedOrders(symbol=\"SOL/EUR\")\n",
    "\n",
    "# binance.loadMarkets()\n",
    "\n",
    "# BUY\n",
    "# binance.createMarketOrder(symbol=\"BNB/BUSD\", side=\"BUY\", amount=1)\n",
    "binance.createMarketOrder(symbol=\"BNB/BUSD\", side=\"BUY\", amount=1, price=2000) # Buy X BNB for 200 BUSD\n",
    "\n",
    "# SELL\n",
    "# binance.createMarketOrder(symbol=\"BNB/BUSD\", side=\"SELL\", amount=\"1\")\n",
    "\n",
    "binance.fetchMyTrades(symbol=\"BNB/BUSD\")"
   ]
  },
  {
   "cell_type": "code",
   "execution_count": null,
   "id": "886ceef4",
   "metadata": {},
   "outputs": [],
   "source": []
  }
 ],
 "metadata": {
  "kernelspec": {
   "display_name": "venv",
   "language": "python",
   "name": "venv"
  },
  "language_info": {
   "codemirror_mode": {
    "name": "ipython",
    "version": 3
   },
   "file_extension": ".py",
   "mimetype": "text/x-python",
   "name": "python",
   "nbconvert_exporter": "python",
   "pygments_lexer": "ipython3",
   "version": "3.9.0"
  }
 },
 "nbformat": 4,
 "nbformat_minor": 5
}
